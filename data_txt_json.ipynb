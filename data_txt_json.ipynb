{
 "cells": [
  {
   "cell_type": "markdown",
   "metadata": {},
   "source": [
    "# Создание механизма преобразования данных"
   ]
  },
  {
   "cell_type": "code",
   "execution_count": 121,
   "metadata": {},
   "outputs": [],
   "source": [
    "def data_txt_json(file_name):\n",
    "    # загрузка необходимых библиотек\n",
    "    import pandas as pd\n",
    "    # открытие файла\n",
    "    with open(f'{file_name}.txt', 'r') as data:\n",
    "        # представление текста как массива данных\n",
    "        dataset = [line for line in data.readlines()]\n",
    "    # удаление знака переноса строки\n",
    "    n = len(dataset)\n",
    "    dataset_n = [dataset[i].replace('\\n', '') for i in range(n)]\n",
    "    # обрезка текста с начала массива данных\n",
    "    ind = dataset_n.index('[Data]')\n",
    "    dataset_n = dataset_n[ind+1:]\n",
    "    # разбивка каждого элемента массива по знаку нового столбца\n",
    "    n = len(dataset_n)\n",
    "    dataset_t = [dataset_n[i].split('\\t') for i in range(n)]\n",
    "    # представление элемента массива как таблицы pandas\n",
    "    dataset_df = pd.DataFrame(dataset_t[1:], columns=dataset_t[0])\n",
    "    # обрезка таблицы до необходимых столбцов\n",
    "    dataset_df = dataset_df[['SNP Name', 'Sample ID', 'Allele1 - AB', 'Allele2 - AB']]\n",
    "    # создание единого столбца 'Allele - AB'\n",
    "    dataset_df['Allele - AB'] = dataset_df[['Allele1 - AB', 'Allele2 - AB']].agg(''.join, axis=1)\n",
    "    dataset_df = dataset_df.drop(['Allele1 - AB', 'Allele2 - AB'], axis=1)\n",
    "    # создание таблицы с необходимыми индексами и столбцами\n",
    "    pivot_dataset = pd.pivot_table(dataset_df,\n",
    "                               values='Allele - AB',\n",
    "                               index='Sample ID',\n",
    "                               columns = 'SNP Name',\n",
    "                               aggfunc = lambda x: ''.join(x))\n",
    "    # представление таблицы в json-формате\n",
    "    dataset_json = pivot_dataset.to_json(f'{file_name}.json')\n",
    "    return dataset_json"
   ]
  },
  {
   "cell_type": "code",
   "execution_count": 122,
   "metadata": {},
   "outputs": [],
   "source": [
    "data_txt_json('dataset') # необходимо ввести только имя файла без расширения"
   ]
  }
 ],
 "metadata": {
  "kernelspec": {
   "display_name": "Python 3",
   "language": "python",
   "name": "python3"
  },
  "language_info": {
   "codemirror_mode": {
    "name": "ipython",
    "version": 3
   },
   "file_extension": ".py",
   "mimetype": "text/x-python",
   "name": "python",
   "nbconvert_exporter": "python",
   "pygments_lexer": "ipython3",
   "version": "3.11.3"
  },
  "orig_nbformat": 4
 },
 "nbformat": 4,
 "nbformat_minor": 2
}
